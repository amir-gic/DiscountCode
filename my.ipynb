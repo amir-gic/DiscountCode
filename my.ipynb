{
 "cells": [
  {
   "cell_type": "code",
   "execution_count": 7,
   "metadata": {},
   "outputs": [
    {
     "name": "stdout",
     "output_type": "stream",
     "text": [
      "['amri']\n",
      "hi\n",
      "['hasan', '3', '4']\n",
      "2\n",
      "1\n",
      "['mobin']\n",
      "hi\n"
     ]
    }
   ],
   "source": [
    "lis = [['amri'],['hasan' , '3', '4'],['mobin']]\n",
    "for i in lis:\n",
    "    print(i)\n",
    "    if '4' in i:\n",
    "        print(i.index('4'))\n",
    "        print(lis.index(i))\n",
    "    else:\n",
    "        print('hi')"
   ]
  },
  {
   "cell_type": "code",
   "execution_count": 38,
   "metadata": {},
   "outputs": [
    {
     "name": "stdout",
     "output_type": "stream",
     "text": [
      "['2022-03-02', '23:15:23.648740']\n",
      "\n"
     ]
    },
    {
     "data": {
      "text/plain": [
       "'[1400, 12, 11]'"
      ]
     },
     "execution_count": 38,
     "metadata": {},
     "output_type": "execute_result"
    }
   ],
   "source": [
    "import datetime , IRtime\n",
    "h = datetime.datetime.now()\n",
    "print(datetime.datetime.now().__str__().split(' '))\n",
    "print(h.strftime(''))\n",
    "date , hour = datetime.datetime.now().__str__().split(' ')\n",
    "date = [int(i) for i in date.split('-')]\n",
    "str(IRtime.gregorian_to_jalali(date[0] , date[1] , date[2]))"
   ]
  },
  {
   "cell_type": "code",
   "execution_count": 26,
   "metadata": {},
   "outputs": [
    {
     "data": {
      "text/plain": [
       "1646246252.8728588"
      ]
     },
     "execution_count": 26,
     "metadata": {},
     "output_type": "execute_result"
    }
   ],
   "source": [
    "import time\n",
    "time.time()"
   ]
  }
 ],
 "metadata": {
  "interpreter": {
   "hash": "31f2aee4e71d21fbe5cf8b01ff0e069b9275f58929596ceb00d14d90e3e16cd6"
  },
  "kernelspec": {
   "display_name": "Python 3.6.9 64-bit",
   "language": "python",
   "name": "python3"
  },
  "language_info": {
   "codemirror_mode": {
    "name": "ipython",
    "version": 3
   },
   "file_extension": ".py",
   "mimetype": "text/x-python",
   "name": "python",
   "nbconvert_exporter": "python",
   "pygments_lexer": "ipython3",
   "version": "3.6.9"
  },
  "orig_nbformat": 4
 },
 "nbformat": 4,
 "nbformat_minor": 2
}
